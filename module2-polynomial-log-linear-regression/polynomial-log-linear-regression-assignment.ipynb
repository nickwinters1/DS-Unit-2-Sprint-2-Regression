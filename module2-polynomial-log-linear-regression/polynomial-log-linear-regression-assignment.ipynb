{
 "cells": [
  {
   "cell_type": "markdown",
   "metadata": {
    "colab_type": "text",
    "id": "Dc4kEVNWo4yZ"
   },
   "source": [
    "# Intermediate Linear Regression Practice\n",
    "\n",
    "## Use a Linear Regression model to get the lowest RMSE possible on the following dataset:\n",
    "\n",
    "[Dataset Folder](https://github.com/ryanleeallred/datasets/tree/master/Ames%20Housing%20Data)\n",
    "\n",
    "[Raw CSV](https://raw.githubusercontent.com/ryanleeallred/datasets/master/Ames%20Housing%20Data/train.csv)\n",
    "\n",
    "## Your model must include (at least):\n",
    "- A log-transformed y variable\n",
    "- Two polynomial features\n",
    "- One interaction feature\n",
    "- 10 other engineered features\n",
    "\n",
    "What is the lowest Root-Mean-Squared Error that you are able to obtain? Share your best RMSEs in Slack!\n",
    "\n",
    "Notes:\n",
    "\n",
    "There may be some data cleaning that you need to do on some features of this dataset. Linear Regression will only accept numeric values and will not accept\n",
    "\n",
    "Note* There may not be a clear candidate for an interaction term in this dataset. Include one anyway, sometimes it's a good practice for predictive modeling feature engineering in general. "
   ]
  },
  {
   "cell_type": "code",
   "execution_count": 0,
   "metadata": {
    "colab": {},
    "colab_type": "code",
    "id": "XYZSkixpo2qD"
   },
   "outputs": [],
   "source": [
    "##### Your Code Here #####"
   ]
  },
  {
   "cell_type": "markdown",
   "metadata": {
    "colab_type": "text",
    "id": "Uvbg4rRPW2Ex"
   },
   "source": [
    "# Stretch Goals\n",
    "\n",
    "- Write a blog post explaining one of today's topics.\n",
    "- Find a new regression dataset from the UCI machine learning repository and use it to test out your new modeling skillz.\n",
    " [ - UCI Machine Learning Repository - Regression Datasets](https://)\n",
    "- Make a list for yourself of common feature engineering techniques. Browse Kaggle kernels to learn more methods.\n",
    "- Try and make the ultimate model with this dataset. clean as many features as possible, engineer the most sensible features as possible and see how accurate of a prediction you can make. \n",
    "- Learn about the \"Dummy Variable Trap\" and how it applies to linear regression modeling.\n",
    "- Learning about using linear regression to model time series data"
   ]
  }
 ],
 "metadata": {
  "colab": {
   "name": "Polynomial/Log-linear Regression Assignment.ipynb",
   "provenance": [],
   "version": "0.3.2"
  },
  "kernelspec": {
   "display_name": "Python 3",
   "language": "python",
   "name": "python3"
  },
  "language_info": {
   "codemirror_mode": {
    "name": "ipython",
    "version": 3
   },
   "file_extension": ".py",
   "mimetype": "text/x-python",
   "name": "python",
   "nbconvert_exporter": "python",
   "pygments_lexer": "ipython3",
   "version": "3.7.1"
  }
 },
 "nbformat": 4,
 "nbformat_minor": 1
}
